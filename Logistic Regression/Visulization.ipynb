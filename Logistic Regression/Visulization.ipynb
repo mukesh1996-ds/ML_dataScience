{
 "cells": [
  {
   "cell_type": "code",
   "execution_count": 1,
   "metadata": {},
   "outputs": [],
   "source": [
    "import pandas as pd\n",
    "import seaborn as sns\n",
    "import matplotlib.pyplot as plt"
   ]
  },
  {
   "cell_type": "code",
   "execution_count": 2,
   "metadata": {},
   "outputs": [
    {
     "name": "stdout",
     "output_type": "stream",
     "text": [
      "   Pregnancies  Glucose  BloodPressure  SkinThickness  Insulin   BMI  \\\n",
      "0            6      148             72             35        0  33.6   \n",
      "1            1       85             66             29        0  26.6   \n",
      "2            8      183             64              0        0  23.3   \n",
      "3            1       89             66             23       94  28.1   \n",
      "4            0      137             40             35      168  43.1   \n",
      "\n",
      "   DiabetesPedigreeFunction  Age  Outcome  \n",
      "0                     0.627   50        1  \n",
      "1                     0.351   31        0  \n",
      "2                     0.672   32        1  \n",
      "3                     0.167   21        0  \n",
      "4                     2.288   33        1  \n"
     ]
    }
   ],
   "source": [
    "df = pd.read_csv('diabetes.csv')\n",
    "print(df.head())"
   ]
  },
  {
   "cell_type": "code",
   "execution_count": 19,
   "metadata": {},
   "outputs": [
    {
     "data": {
      "text/plain": [
       "(array([111., 135., 103.,  75.,  68.,  57.,   0.,  50.,  45.,  38.,  28.,\n",
       "         24.,  11.,   0.,   9.,  10.,   2.,   1.,   0.,   1.]),\n",
       " array([ 0.  ,  0.85,  1.7 ,  2.55,  3.4 ,  4.25,  5.1 ,  5.95,  6.8 ,\n",
       "         7.65,  8.5 ,  9.35, 10.2 , 11.05, 11.9 , 12.75, 13.6 , 14.45,\n",
       "        15.3 , 16.15, 17.  ]),\n",
       " <BarContainer object of 20 artists>)"
      ]
     },
     "execution_count": 19,
     "metadata": {},
     "output_type": "execute_result"
    },
    {
     "data": {
      "image/png": "[encoded data removed]",
      "text/plain": [
       "<Figure size 432x288 with 1 Axes>"
      ]
     },
     "metadata": {
      "needs_background": "light"
     },
     "output_type": "display_data"
    }
   ],
   "source": [
    "plt.hist(df['Pregnancies'], bins=20)\n"
   ]
  },
  {
   "cell_type": "code",
   "execution_count": 11,
   "metadata": {},
   "outputs": [
    {
     "data": {
      "text/plain": [
       "(array([  5.,   0.,   4.,  32., 156., 211., 163.,  95.,  56.,  46.]),\n",
       " array([  0. ,  19.9,  39.8,  59.7,  79.6,  99.5, 119.4, 139.3, 159.2,\n",
       "        179.1, 199. ]),\n",
       " <BarContainer object of 10 artists>)"
      ]
     },
     "execution_count": 11,
     "metadata": {},
     "output_type": "execute_result"
    },
    {
     "data": {
      "image/png": "[encoded data removed]",
      "text/plain": [
       "<Figure size 432x288 with 1 Axes>"
      ]
     },
     "metadata": {
      "needs_background": "light"
     },
     "output_type": "display_data"
    }
   ],
   "source": [
    "plt.hist(df['Glucose'])"
   ]
  },
  {
   "cell_type": "code",
   "execution_count": 12,
   "metadata": {},
   "outputs": [
    {
     "data": {
      "text/plain": [
       "(array([ 35.,   1.,   2.,  13., 107., 261., 243.,  87.,  14.,   5.]),\n",
       " array([  0. ,  12.2,  24.4,  36.6,  48.8,  61. ,  73.2,  85.4,  97.6,\n",
       "        109.8, 122. ]),\n",
       " <BarContainer object of 10 artists>)"
      ]
     },
     "execution_count": 12,
     "metadata": {},
     "output_type": "execute_result"
    },
    {
     "data": {
      "image/png": "[encoded data removed]",
      "text/plain": [
       "<Figure size 432x288 with 1 Axes>"
      ]
     },
     "metadata": {
      "needs_background": "light"
     },
     "output_type": "display_data"
    }
   ],
   "source": [
    "plt.hist(df['BloodPressure'])"
   ]
  },
  {
   "cell_type": "code",
   "execution_count": 13,
   "metadata": {},
   "outputs": [
    {
     "data": {
      "text/plain": [
       "(array([231., 107., 165., 175.,  78.,   9.,   2.,   0.,   0.,   1.]),\n",
       " array([ 0. ,  9.9, 19.8, 29.7, 39.6, 49.5, 59.4, 69.3, 79.2, 89.1, 99. ]),\n",
       " <BarContainer object of 10 artists>)"
      ]
     },
     "execution_count": 13,
     "metadata": {},
     "output_type": "execute_result"
    },
    {
     "data": {
      "image/png": "[encoded data removed]",
      "text/plain": [
       "<Figure size 432x288 with 1 Axes>"
      ]
     },
     "metadata": {
      "needs_background": "light"
     },
     "output_type": "display_data"
    }
   ],
   "source": [
    "plt.hist(df['SkinThickness'])"
   ]
  },
  {
   "cell_type": "code",
   "execution_count": 14,
   "metadata": {},
   "outputs": [
    {
     "data": {
      "text/plain": [
       "(array([487., 155.,  70.,  30.,   8.,   9.,   5.,   1.,   2.,   1.]),\n",
       " array([  0. ,  84.6, 169.2, 253.8, 338.4, 423. , 507.6, 592.2, 676.8,\n",
       "        761.4, 846. ]),\n",
       " <BarContainer object of 10 artists>)"
      ]
     },
     "execution_count": 14,
     "metadata": {},
     "output_type": "execute_result"
    },
    {
     "data": {
      "image/png": "[encoded data removed]",
      "text/plain": [
       "<Figure size 432x288 with 1 Axes>"
      ]
     },
     "metadata": {
      "needs_background": "light"
     },
     "output_type": "display_data"
    }
   ],
   "source": [
    "plt.hist(df['Insulin'])"
   ]
  },
  {
   "cell_type": "code",
   "execution_count": 15,
   "metadata": {},
   "outputs": [
    {
     "data": {
      "text/plain": [
       "(array([ 11.,   0.,  15., 156., 268., 224.,  78.,  12.,   3.,   1.]),\n",
       " array([ 0.  ,  6.71, 13.42, 20.13, 26.84, 33.55, 40.26, 46.97, 53.68,\n",
       "        60.39, 67.1 ]),\n",
       " <BarContainer object of 10 artists>)"
      ]
     },
     "execution_count": 15,
     "metadata": {},
     "output_type": "execute_result"
    },
    {
     "data": {
      "image/png": "[encoded data removed]",
      "text/plain": [
       "<Figure size 432x288 with 1 Axes>"
      ]
     },
     "metadata": {
      "needs_background": "light"
     },
     "output_type": "display_data"
    }
   ],
   "source": [
    "plt.hist(df['BMI'])"
   ]
  },
  {
   "cell_type": "code",
   "execution_count": 16,
   "metadata": {},
   "outputs": [
    {
     "data": {
      "text/plain": [
       "(array([318., 206., 136.,  58.,  25.,  15.,   3.,   3.,   1.,   3.]),\n",
       " array([0.078 , 0.3122, 0.5464, 0.7806, 1.0148, 1.249 , 1.4832, 1.7174,\n",
       "        1.9516, 2.1858, 2.42  ]),\n",
       " <BarContainer object of 10 artists>)"
      ]
     },
     "execution_count": 16,
     "metadata": {},
     "output_type": "execute_result"
    },
    {
     "data": {
      "image/png": "[encoded data removed]",
      "text/plain": [
       "<Figure size 432x288 with 1 Axes>"
      ]
     },
     "metadata": {
      "needs_background": "light"
     },
     "output_type": "display_data"
    }
   ],
   "source": [
    "plt.hist(df['DiabetesPedigreeFunction'])"
   ]
  },
  {
   "cell_type": "code",
   "execution_count": 18,
   "metadata": {},
   "outputs": [
    {
     "data": {
      "text/plain": [
       "(array([300., 157.,  92.,  86.,  52.,  34.,  26.,  16.,   4.,   1.]),\n",
       " array([21., 27., 33., 39., 45., 51., 57., 63., 69., 75., 81.]),\n",
       " <BarContainer object of 10 artists>)"
      ]
     },
     "execution_count": 18,
     "metadata": {},
     "output_type": "execute_result"
    },
    {
     "data": {
      "image/png": "[encoded data removed]",
      "text/plain": [
       "<Figure size 432x288 with 1 Axes>"
      ]
     },
     "metadata": {
      "needs_background": "light"
     },
     "output_type": "display_data"
    }
   ],
   "source": [
    "plt.hist(df['Age'])"
   ]
  },
  {
   "cell_type": "code",
   "execution_count": 1,
   "metadata": {},
   "outputs": [],
   "source": [
    "# By looking towards the dataset we can clearly see that maximum data will lie between o so we need to remove it "
   ]
  },
  {
   "cell_type": "code",
   "execution_count": 3,
   "metadata": {},
   "outputs": [
    {
     "data": {
      "text/plain": [
       "<AxesSubplot:>"
      ]
     },
     "execution_count": 3,
     "metadata": {},
     "output_type": "execute_result"
    },
    {
     "data": {
      "image/png": "[encoded data removed]",
      "text/plain": [
       "<Figure size 432x288 with 2 Axes>"
      ]
     },
     "metadata": {
      "needs_background": "light"
     },
     "output_type": "display_data"
    }
   ],
   "source": [
    "sns.heatmap(df)"
   ]
  },
  {
   "cell_type": "code",
   "execution_count": 4,
   "metadata": {},
   "outputs": [],
   "source": [
    "# checking outliers "
   ]
  },
  {
   "cell_type": "code",
   "execution_count": 6,
   "metadata": {},
   "outputs": [
    {
     "data": {
      "text/plain": [
       "<AxesSubplot:>"
      ]
     },
     "execution_count": 6,
     "metadata": {},
     "output_type": "execute_result"
    },
    {
     "data": {
      "image/png": "[encoded data removed]",
      "text/plain": [
       "<Figure size 432x288 with 1 Axes>"
      ]
     },
     "metadata": {
      "needs_background": "light"
     },
     "output_type": "display_data"
    }
   ],
   "source": [
    "sns.boxplot(data = df, width=0.8\n",
    ")"
   ]
  },
  {
   "cell_type": "code",
   "execution_count": 7,
   "metadata": {},
   "outputs": [
    {
     "data": {
      "text/plain": [
       "{'whiskers': [<matplotlib.lines.Line2D at 0x15368b097c0>,\n",
       "  <matplotlib.lines.Line2D at 0x15368b09b20>,\n",
       "  <matplotlib.lines.Line2D at 0x15368b15fd0>,\n",
       "  <matplotlib.lines.Line2D at 0x15368b22370>,\n",
       "  <matplotlib.lines.Line2D at 0x15368b307f0>,\n",
       "  <matplotlib.lines.Line2D at 0x15368b30b50>,\n",
       "  <matplotlib.lines.Line2D at 0x15368b39fd0>,\n",
       "  <matplotlib.lines.Line2D at 0x15368b48370>,\n",
       "  <matplotlib.lines.Line2D at 0x15368b527f0>,\n",
       "  <matplotlib.lines.Line2D at 0x15368b52b50>,\n",
       "  <matplotlib.lines.Line2D at 0x15368b6a040>,\n",
       "  <matplotlib.lines.Line2D at 0x15368b6a3a0>,\n",
       "  <matplotlib.lines.Line2D at 0x15368b76820>,\n",
       "  <matplotlib.lines.Line2D at 0x15368b76b80>,\n",
       "  <matplotlib.lines.Line2D at 0x15368b8e070>,\n",
       "  <matplotlib.lines.Line2D at 0x15368b8e3d0>,\n",
       "  <matplotlib.lines.Line2D at 0x15368b9c850>,\n",
       "  <matplotlib.lines.Line2D at 0x15368b9cbb0>],\n",
       " 'caps': [<matplotlib.lines.Line2D at 0x15368b09eb0>,\n",
       "  <matplotlib.lines.Line2D at 0x15368b15250>,\n",
       "  <matplotlib.lines.Line2D at 0x15368b226d0>,\n",
       "  <matplotlib.lines.Line2D at 0x15368b22a30>,\n",
       "  <matplotlib.lines.Line2D at 0x15368b30eb0>,\n",
       "  <matplotlib.lines.Line2D at 0x15368b39250>,\n",
       "  <matplotlib.lines.Line2D at 0x15368b486d0>,\n",
       "  <matplotlib.lines.Line2D at 0x15368b48a30>,\n",
       "  <matplotlib.lines.Line2D at 0x15368b52eb0>,\n",
       "  <matplotlib.lines.Line2D at 0x15368b5e280>,\n",
       "  <matplotlib.lines.Line2D at 0x15368b6a700>,\n",
       "  <matplotlib.lines.Line2D at 0x15368b6aa60>,\n",
       "  <matplotlib.lines.Line2D at 0x15368b76f10>,\n",
       "  <matplotlib.lines.Line2D at 0x15368b812b0>,\n",
       "  <matplotlib.lines.Line2D at 0x15368b8e730>,\n",
       "  <matplotlib.lines.Line2D at 0x15368b8ea90>,\n",
       "  <matplotlib.lines.Line2D at 0x15368b9cf10>,\n",
       "  <matplotlib.lines.Line2D at 0x15368ba52b0>],\n",
       " 'boxes': [<matplotlib.lines.Line2D at 0x15368b09460>,\n",
       "  <matplotlib.lines.Line2D at 0x15368b15c70>,\n",
       "  <matplotlib.lines.Line2D at 0x15368b30490>,\n",
       "  <matplotlib.lines.Line2D at 0x15368b39c70>,\n",
       "  <matplotlib.lines.Line2D at 0x15368b52490>,\n",
       "  <matplotlib.lines.Line2D at 0x15368b5eca0>,\n",
       "  <matplotlib.lines.Line2D at 0x15368b764c0>,\n",
       "  <matplotlib.lines.Line2D at 0x15368b81cd0>,\n",
       "  <matplotlib.lines.Line2D at 0x15368b9c4f0>],\n",
       " 'medians': [<matplotlib.lines.Line2D at 0x15368b155b0>,\n",
       "  <matplotlib.lines.Line2D at 0x15368b22d90>,\n",
       "  <matplotlib.lines.Line2D at 0x15368b395b0>,\n",
       "  <matplotlib.lines.Line2D at 0x15368b48d90>,\n",
       "  <matplotlib.lines.Line2D at 0x15368b5e5e0>,\n",
       "  <matplotlib.lines.Line2D at 0x15368b6adc0>,\n",
       "  <matplotlib.lines.Line2D at 0x15368b81610>,\n",
       "  <matplotlib.lines.Line2D at 0x15368b8edf0>,\n",
       "  <matplotlib.lines.Line2D at 0x15368ba5610>],\n",
       " 'fliers': [<matplotlib.lines.Line2D at 0x15368b15910>,\n",
       "  <matplotlib.lines.Line2D at 0x15368b30130>,\n",
       "  <matplotlib.lines.Line2D at 0x15368b39910>,\n",
       "  <matplotlib.lines.Line2D at 0x15368b52130>,\n",
       "  <matplotlib.lines.Line2D at 0x15368b5e940>,\n",
       "  <matplotlib.lines.Line2D at 0x15368b76160>,\n",
       "  <matplotlib.lines.Line2D at 0x15368b81970>,\n",
       "  <matplotlib.lines.Line2D at 0x15368b9c190>,\n",
       "  <matplotlib.lines.Line2D at 0x15368ba5970>],\n",
       " 'means': []}"
      ]
     },
     "execution_count": 7,
     "metadata": {},
     "output_type": "execute_result"
    },
    {
     "data": {
      "image/png": "[encoded data removed]",
      "text/plain": [
       "<Figure size 432x288 with 1 Axes>"
      ]
     },
     "metadata": {
      "needs_background": "light"
     },
     "output_type": "display_data"
    }
   ],
   "source": [
    "plt.boxplot(df)"
   ]
  },
  {
   "cell_type": "code",
   "execution_count": 9,
   "metadata": {},
   "outputs": [
    {
     "data": {
      "text/plain": [
       "{'whiskers': [<matplotlib.lines.Line2D at 0x15368e4f820>,\n",
       "  <matplotlib.lines.Line2D at 0x15368e4fb80>],\n",
       " 'caps': [<matplotlib.lines.Line2D at 0x15368e4fee0>,\n",
       "  <matplotlib.lines.Line2D at 0x15368e5c280>],\n",
       " 'boxes': [<matplotlib.lines.Line2D at 0x15368e4f4c0>],\n",
       " 'medians': [<matplotlib.lines.Line2D at 0x15368e5c5e0>],\n",
       " 'fliers': [<matplotlib.lines.Line2D at 0x15368e5c940>],\n",
       " 'means': []}"
      ]
     },
     "execution_count": 9,
     "metadata": {},
     "output_type": "execute_result"
    },
    {
     "data": {
      "image/png": "[encoded data removed]",
      "text/plain": [
       "<Figure size 432x288 with 1 Axes>"
      ]
     },
     "metadata": {
      "needs_background": "light"
     },
     "output_type": "display_data"
    }
   ],
   "source": [
    "plt.boxplot(df['Insulin'])"
   ]
  },
  {
   "cell_type": "code",
   "execution_count": 11,
   "metadata": {},
   "outputs": [
    {
     "data": {
      "text/plain": [
       "{'whiskers': [<matplotlib.lines.Line2D at 0x15368eae7c0>,\n",
       "  <matplotlib.lines.Line2D at 0x15368eaeb20>],\n",
       " 'caps': [<matplotlib.lines.Line2D at 0x15368eaee80>,\n",
       "  <matplotlib.lines.Line2D at 0x15368eba220>],\n",
       " 'boxes': [<matplotlib.lines.Line2D at 0x15368eae460>],\n",
       " 'medians': [<matplotlib.lines.Line2D at 0x15368eba580>],\n",
       " 'fliers': [<matplotlib.lines.Line2D at 0x15368eba8e0>],\n",
       " 'means': []}"
      ]
     },
     "execution_count": 11,
     "metadata": {},
     "output_type": "execute_result"
    },
    {
     "data": {
      "image/png": "[encoded data removed]",
      "text/plain": [
       "<Figure size 432x288 with 1 Axes>"
      ]
     },
     "metadata": {
      "needs_background": "light"
     },
     "output_type": "display_data"
    }
   ],
   "source": [
    "plt.boxplot(df['Pregnancies'])"
   ]
  },
  {
   "cell_type": "code",
   "execution_count": 13,
   "metadata": {},
   "outputs": [
    {
     "data": {
      "text/plain": [
       "{'whiskers': [<matplotlib.lines.Line2D at 0x153689b9640>,\n",
       "  <matplotlib.lines.Line2D at 0x153689b9e20>],\n",
       " 'caps': [<matplotlib.lines.Line2D at 0x153689bf3d0>,\n",
       "  <matplotlib.lines.Line2D at 0x153689bfca0>],\n",
       " 'boxes': [<matplotlib.lines.Line2D at 0x153689b9070>],\n",
       " 'medians': [<matplotlib.lines.Line2D at 0x153689b29d0>],\n",
       " 'fliers': [<matplotlib.lines.Line2D at 0x153689b2190>],\n",
       " 'means': []}"
      ]
     },
     "execution_count": 13,
     "metadata": {},
     "output_type": "execute_result"
    },
    {
     "data": {
      "image/png": "[encoded data removed]",
      "text/plain": [
       "<Figure size 432x288 with 1 Axes>"
      ]
     },
     "metadata": {
      "needs_background": "light"
     },
     "output_type": "display_data"
    }
   ],
   "source": [
    "plt.boxplot(df['BMI'])"
   ]
  },
  {
   "cell_type": "code",
   "execution_count": 14,
   "metadata": {},
   "outputs": [
    {
     "data": {
      "text/plain": [
       "{'whiskers': [<matplotlib.lines.Line2D at 0x153689a8970>,\n",
       "  <matplotlib.lines.Line2D at 0x153689a8fa0>],\n",
       " 'caps': [<matplotlib.lines.Line2D at 0x15368ad1b20>,\n",
       "  <matplotlib.lines.Line2D at 0x15367870640>],\n",
       " 'boxes': [<matplotlib.lines.Line2D at 0x15368e95220>],\n",
       " 'medians': [<matplotlib.lines.Line2D at 0x15367870b20>],\n",
       " 'fliers': [<matplotlib.lines.Line2D at 0x15368ada400>],\n",
       " 'means': []}"
      ]
     },
     "execution_count": 14,
     "metadata": {},
     "output_type": "execute_result"
    },
    {
     "data": {
      "image/png": "[encoded data removed]",
      "text/plain": [
       "<Figure size 432x288 with 1 Axes>"
      ]
     },
     "metadata": {
      "needs_background": "light"
     },
     "output_type": "display_data"
    }
   ],
   "source": [
    "plt.boxplot(df['SkinThickness'])"
   ]
  },
  {
   "cell_type": "code",
   "execution_count": 15,
   "metadata": {},
   "outputs": [
    {
     "data": {
      "text/plain": [
       "{'whiskers': [<matplotlib.lines.Line2D at 0x15368faa1f0>,\n",
       "  <matplotlib.lines.Line2D at 0x15368faa550>],\n",
       " 'caps': [<matplotlib.lines.Line2D at 0x15368faa8b0>,\n",
       "  <matplotlib.lines.Line2D at 0x15368faac10>],\n",
       " 'boxes': [<matplotlib.lines.Line2D at 0x15368f9ae50>],\n",
       " 'medians': [<matplotlib.lines.Line2D at 0x15368faaf70>],\n",
       " 'fliers': [<matplotlib.lines.Line2D at 0x15368fb6310>],\n",
       " 'means': []}"
      ]
     },
     "execution_count": 15,
     "metadata": {},
     "output_type": "execute_result"
    },
    {
     "data": {
      "image/png": "[encoded data removed]",
      "text/plain": [
       "<Figure size 432x288 with 1 Axes>"
      ]
     },
     "metadata": {
      "needs_background": "light"
     },
     "output_type": "display_data"
    }
   ],
   "source": [
    "plt.boxplot(df['DiabetesPedigreeFunction'])"
   ]
  },
  {
   "cell_type": "code",
   "execution_count": null,
   "metadata": {},
   "outputs": [],
   "source": []
  }
 ],
 "metadata": {
  "interpreter": {
   "hash": "11a4a60b518bf24989d481468076e5d5982884626aed9faeb35b8576fcd223e1"
  },
  "kernelspec": {
   "display_name": "Python 3.8.8 64-bit",
   "name": "python3"
  },
  "language_info": {
   "codemirror_mode": {
    "name": "ipython",
    "version": 3
   },
   "file_extension": ".py",
   "mimetype": "text/x-python",
   "name": "python",
   "nbconvert_exporter": "python",
   "pygments_lexer": "ipython3",
   "version": "3.8.8"
  },
  "orig_nbformat": 4
 },
 "nbformat": 4,
 "nbformat_minor": 2
}
